{
 "cells": [
  {
   "cell_type": "code",
   "execution_count": 1,
   "metadata": {},
   "outputs": [],
   "source": [
    "import argparse\n",
    "from utils.ops import count_parameters, save_yaml, load_yaml\n",
    "import torch\n",
    "from torch.multiprocessing import Process, freeze_support\n",
    "from torch.utils.data import DataLoader\n",
    "import time\n",
    "from  pathlib import Path\n",
    "from utils.datasets import TrainDataset, ValDataset#, to_gpu\n",
    "from pydoc import locate\n",
    "import lightning.pytorch as pl\n",
    "from lightning.pytorch.callbacks.early_stopping import EarlyStopping\n",
    "from lightning.pytorch.callbacks import ModelCheckpoint\n",
    "from lightning.pytorch.loggers.tensorboard import TensorBoardLogger\n",
    "from lightning.pytorch.profilers import SimpleProfiler\n",
    "from models.callbacks import TrainSamples\n",
    "from tqdm.notebook import trange"
   ]
  },
  {
   "cell_type": "code",
   "execution_count": 2,
   "metadata": {},
   "outputs": [],
   "source": [
    "exp_n = 1\n",
    "site = 2"
   ]
  },
  {
   "cell_type": "code",
   "execution_count": 3,
   "metadata": {},
   "outputs": [],
   "source": [
    "cfg = load_yaml('cfg.yaml')\n",
    "\n",
    "site_cfg = load_yaml(f'site_{site}.yaml')\n",
    "\n",
    "training_params = cfg['training_params']\n",
    "preparation_params = cfg['preparation_params']\n",
    "experiment_params = cfg['experiments'][f'exp_{exp_n}']\n",
    "paths_params = cfg['paths']\n",
    "general_params = cfg['general_params']\n",
    "\n",
    "experiments_folders = general_params['experiments_folders']\n",
    "\n",
    "original_opt_imgs = site_cfg['original_data']['opt_imgs']\n",
    "original_sar_imgs = site_cfg['original_data']['sar_imgs']\n",
    "\n",
    "experiments_paths = paths_params['experiments']\n",
    "\n",
    "#create experiment folder structure\n",
    "exp_path = Path(experiments_paths) / f'exp_{exp_n}'\n",
    "\n",
    "models_path = exp_path / experiments_folders['models']\n",
    "logs_path = exp_path / experiments_folders['logs']\n",
    "visual_path = exp_path / experiments_folders['visual']\n",
    "predicted_path = exp_path / experiments_folders['predicted']\n",
    "results_path = exp_path / experiments_folders['results']\n",
    "visual_logs_path = exp_path / experiments_folders['visual_logs']\n",
    "\n",
    "prepared_folder = Path(paths_params['prepared_data'])\n",
    "\n",
    "train_folder = prepared_folder / preparation_params['train_folder']\n",
    "val_folder = prepared_folder / preparation_params['validation_folder']\n",
    "prepared_patches_file = prepared_folder / preparation_params['prepared_data']\n",
    "prepared_patches = load_yaml(prepared_patches_file)\n",
    "\n",
    "\n",
    "patch_size = general_params['patch_size']\n",
    "n_classes = general_params['n_classes']\n",
    "\n",
    "min_val_loss = training_params['min_val_loss']"
   ]
  },
  {
   "cell_type": "code",
   "execution_count": 4,
   "metadata": {},
   "outputs": [],
   "source": [
    "train_ds = TrainDataset(experiment_params, train_folder, prepared_patches['train'])\n",
    "val_ds = ValDataset(experiment_params, val_folder, prepared_patches['val'])"
   ]
  },
  {
   "cell_type": "code",
   "execution_count": 5,
   "metadata": {},
   "outputs": [
    {
     "data": {
      "application/vnd.jupyter.widget-view+json": {
       "model_id": "508933c2184445108610029c5f7da350",
       "version_major": 2,
       "version_minor": 0
      },
      "text/plain": [
       "  0%|          | 0/65070 [00:00<?, ?it/s]"
      ]
     },
     "metadata": {},
     "output_type": "display_data"
    },
    {
     "name": "stdout",
     "output_type": "stream",
     "text": [
      "Percentage of patches with clouds: 40.58\n"
     ]
    }
   ],
   "source": [
    "count_cloud = 0\n",
    "for i in trange(len(train_ds)):\n",
    "    train_sample = train_ds[i]\n",
    "    if  train_sample[1][1].max().item() > 0.5 :\n",
    "        count_cloud += 1\n",
    "\n",
    "p_cloud = 100 * (count_cloud / len(train_ds))\n",
    "print(f'Percentage of patches with clouds: {p_cloud:.2f}' )"
   ]
  },
  {
   "cell_type": "code",
   "execution_count": 7,
   "metadata": {},
   "outputs": [
    {
     "data": {
      "application/vnd.jupyter.widget-view+json": {
       "model_id": "d8f5fac54a0a4e06ab88a68374d5bb88",
       "version_major": 2,
       "version_minor": 0
      },
      "text/plain": [
       "  0%|          | 0/42543 [00:00<?, ?it/s]"
      ]
     },
     "metadata": {},
     "output_type": "display_data"
    },
    {
     "name": "stdout",
     "output_type": "stream",
     "text": [
      "Percentage of patches with clouds: 34.21\n"
     ]
    }
   ],
   "source": [
    "count_cloud = 0\n",
    "for i in trange(len(val_ds)):\n",
    "    train_sample = val_ds[i]\n",
    "    if  train_sample[1][1].max().item() > 0.5 :\n",
    "        count_cloud += 1\n",
    "\n",
    "p_cloud = 100 * (count_cloud / len(val_ds))\n",
    "print(f'Percentage of patches with clouds: {p_cloud:.2f}' )"
   ]
  },
  {
   "cell_type": "code",
   "execution_count": null,
   "metadata": {},
   "outputs": [],
   "source": []
  }
 ],
 "metadata": {
  "kernelspec": {
   "display_name": "ferrari",
   "language": "python",
   "name": "python3"
  },
  "language_info": {
   "codemirror_mode": {
    "name": "ipython",
    "version": 3
   },
   "file_extension": ".py",
   "mimetype": "text/x-python",
   "name": "python",
   "nbconvert_exporter": "python",
   "pygments_lexer": "ipython3",
   "version": "3.9.16"
  },
  "orig_nbformat": 4
 },
 "nbformat": 4,
 "nbformat_minor": 2
}
